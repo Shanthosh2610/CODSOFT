{
 "cells": [
  {
   "cell_type": "code",
   "execution_count": 1,
   "id": "022dd613",
   "metadata": {
    "_cell_guid": "b1076dfc-b9ad-4769-8c92-a6c4dae69d19",
    "_uuid": "8f2839f25d086af736a60e9eeb907d3b93b6e0e5",
    "execution": {
     "iopub.execute_input": "2024-06-19T19:48:44.908110Z",
     "iopub.status.busy": "2024-06-19T19:48:44.907642Z",
     "iopub.status.idle": "2024-06-19T19:48:47.125684Z",
     "shell.execute_reply": "2024-06-19T19:48:47.124668Z"
    },
    "papermill": {
     "duration": 2.232338,
     "end_time": "2024-06-19T19:48:47.128468",
     "exception": false,
     "start_time": "2024-06-19T19:48:44.896130",
     "status": "completed"
    },
    "tags": []
   },
   "outputs": [],
   "source": [
    "import pandas as pd\n",
    "import numpy as np\n",
    "from sklearn.model_selection import train_test_split\n",
    "from sklearn.linear_model import LogisticRegression\n",
    "from sklearn.metrics import accuracy_score"
   ]
  },
  {
   "cell_type": "code",
   "execution_count": 2,
   "id": "40305a98",
   "metadata": {
    "execution": {
     "iopub.execute_input": "2024-06-19T19:48:47.148684Z",
     "iopub.status.busy": "2024-06-19T19:48:47.148084Z",
     "iopub.status.idle": "2024-06-19T19:48:51.420561Z",
     "shell.execute_reply": "2024-06-19T19:48:51.419125Z"
    },
    "papermill": {
     "duration": 4.285564,
     "end_time": "2024-06-19T19:48:51.423265",
     "exception": false,
     "start_time": "2024-06-19T19:48:47.137701",
     "status": "completed"
    },
    "tags": []
   },
   "outputs": [
    {
     "data": {
      "text/html": [
       "<div>\n",
       "<style scoped>\n",
       "    .dataframe tbody tr th:only-of-type {\n",
       "        vertical-align: middle;\n",
       "    }\n",
       "\n",
       "    .dataframe tbody tr th {\n",
       "        vertical-align: top;\n",
       "    }\n",
       "\n",
       "    .dataframe thead th {\n",
       "        text-align: right;\n",
       "    }\n",
       "</style>\n",
       "<table border=\"1\" class=\"dataframe\">\n",
       "  <thead>\n",
       "    <tr style=\"text-align: right;\">\n",
       "      <th></th>\n",
       "      <th>Time</th>\n",
       "      <th>V1</th>\n",
       "      <th>V2</th>\n",
       "      <th>V3</th>\n",
       "      <th>V4</th>\n",
       "      <th>V5</th>\n",
       "      <th>V6</th>\n",
       "      <th>V7</th>\n",
       "      <th>V8</th>\n",
       "      <th>V9</th>\n",
       "      <th>...</th>\n",
       "      <th>V21</th>\n",
       "      <th>V22</th>\n",
       "      <th>V23</th>\n",
       "      <th>V24</th>\n",
       "      <th>V25</th>\n",
       "      <th>V26</th>\n",
       "      <th>V27</th>\n",
       "      <th>V28</th>\n",
       "      <th>Amount</th>\n",
       "      <th>Class</th>\n",
       "    </tr>\n",
       "  </thead>\n",
       "  <tbody>\n",
       "    <tr>\n",
       "      <th>0</th>\n",
       "      <td>0.0</td>\n",
       "      <td>-1.359807</td>\n",
       "      <td>-0.072781</td>\n",
       "      <td>2.536347</td>\n",
       "      <td>1.378155</td>\n",
       "      <td>-0.338321</td>\n",
       "      <td>0.462388</td>\n",
       "      <td>0.239599</td>\n",
       "      <td>0.098698</td>\n",
       "      <td>0.363787</td>\n",
       "      <td>...</td>\n",
       "      <td>-0.018307</td>\n",
       "      <td>0.277838</td>\n",
       "      <td>-0.110474</td>\n",
       "      <td>0.066928</td>\n",
       "      <td>0.128539</td>\n",
       "      <td>-0.189115</td>\n",
       "      <td>0.133558</td>\n",
       "      <td>-0.021053</td>\n",
       "      <td>149.62</td>\n",
       "      <td>0</td>\n",
       "    </tr>\n",
       "    <tr>\n",
       "      <th>1</th>\n",
       "      <td>0.0</td>\n",
       "      <td>1.191857</td>\n",
       "      <td>0.266151</td>\n",
       "      <td>0.166480</td>\n",
       "      <td>0.448154</td>\n",
       "      <td>0.060018</td>\n",
       "      <td>-0.082361</td>\n",
       "      <td>-0.078803</td>\n",
       "      <td>0.085102</td>\n",
       "      <td>-0.255425</td>\n",
       "      <td>...</td>\n",
       "      <td>-0.225775</td>\n",
       "      <td>-0.638672</td>\n",
       "      <td>0.101288</td>\n",
       "      <td>-0.339846</td>\n",
       "      <td>0.167170</td>\n",
       "      <td>0.125895</td>\n",
       "      <td>-0.008983</td>\n",
       "      <td>0.014724</td>\n",
       "      <td>2.69</td>\n",
       "      <td>0</td>\n",
       "    </tr>\n",
       "    <tr>\n",
       "      <th>2</th>\n",
       "      <td>1.0</td>\n",
       "      <td>-1.358354</td>\n",
       "      <td>-1.340163</td>\n",
       "      <td>1.773209</td>\n",
       "      <td>0.379780</td>\n",
       "      <td>-0.503198</td>\n",
       "      <td>1.800499</td>\n",
       "      <td>0.791461</td>\n",
       "      <td>0.247676</td>\n",
       "      <td>-1.514654</td>\n",
       "      <td>...</td>\n",
       "      <td>0.247998</td>\n",
       "      <td>0.771679</td>\n",
       "      <td>0.909412</td>\n",
       "      <td>-0.689281</td>\n",
       "      <td>-0.327642</td>\n",
       "      <td>-0.139097</td>\n",
       "      <td>-0.055353</td>\n",
       "      <td>-0.059752</td>\n",
       "      <td>378.66</td>\n",
       "      <td>0</td>\n",
       "    </tr>\n",
       "    <tr>\n",
       "      <th>3</th>\n",
       "      <td>1.0</td>\n",
       "      <td>-0.966272</td>\n",
       "      <td>-0.185226</td>\n",
       "      <td>1.792993</td>\n",
       "      <td>-0.863291</td>\n",
       "      <td>-0.010309</td>\n",
       "      <td>1.247203</td>\n",
       "      <td>0.237609</td>\n",
       "      <td>0.377436</td>\n",
       "      <td>-1.387024</td>\n",
       "      <td>...</td>\n",
       "      <td>-0.108300</td>\n",
       "      <td>0.005274</td>\n",
       "      <td>-0.190321</td>\n",
       "      <td>-1.175575</td>\n",
       "      <td>0.647376</td>\n",
       "      <td>-0.221929</td>\n",
       "      <td>0.062723</td>\n",
       "      <td>0.061458</td>\n",
       "      <td>123.50</td>\n",
       "      <td>0</td>\n",
       "    </tr>\n",
       "    <tr>\n",
       "      <th>4</th>\n",
       "      <td>2.0</td>\n",
       "      <td>-1.158233</td>\n",
       "      <td>0.877737</td>\n",
       "      <td>1.548718</td>\n",
       "      <td>0.403034</td>\n",
       "      <td>-0.407193</td>\n",
       "      <td>0.095921</td>\n",
       "      <td>0.592941</td>\n",
       "      <td>-0.270533</td>\n",
       "      <td>0.817739</td>\n",
       "      <td>...</td>\n",
       "      <td>-0.009431</td>\n",
       "      <td>0.798278</td>\n",
       "      <td>-0.137458</td>\n",
       "      <td>0.141267</td>\n",
       "      <td>-0.206010</td>\n",
       "      <td>0.502292</td>\n",
       "      <td>0.219422</td>\n",
       "      <td>0.215153</td>\n",
       "      <td>69.99</td>\n",
       "      <td>0</td>\n",
       "    </tr>\n",
       "  </tbody>\n",
       "</table>\n",
       "<p>5 rows × 31 columns</p>\n",
       "</div>"
      ],
      "text/plain": [
       "   Time        V1        V2        V3        V4        V5        V6        V7  \\\n",
       "0   0.0 -1.359807 -0.072781  2.536347  1.378155 -0.338321  0.462388  0.239599   \n",
       "1   0.0  1.191857  0.266151  0.166480  0.448154  0.060018 -0.082361 -0.078803   \n",
       "2   1.0 -1.358354 -1.340163  1.773209  0.379780 -0.503198  1.800499  0.791461   \n",
       "3   1.0 -0.966272 -0.185226  1.792993 -0.863291 -0.010309  1.247203  0.237609   \n",
       "4   2.0 -1.158233  0.877737  1.548718  0.403034 -0.407193  0.095921  0.592941   \n",
       "\n",
       "         V8        V9  ...       V21       V22       V23       V24       V25  \\\n",
       "0  0.098698  0.363787  ... -0.018307  0.277838 -0.110474  0.066928  0.128539   \n",
       "1  0.085102 -0.255425  ... -0.225775 -0.638672  0.101288 -0.339846  0.167170   \n",
       "2  0.247676 -1.514654  ...  0.247998  0.771679  0.909412 -0.689281 -0.327642   \n",
       "3  0.377436 -1.387024  ... -0.108300  0.005274 -0.190321 -1.175575  0.647376   \n",
       "4 -0.270533  0.817739  ... -0.009431  0.798278 -0.137458  0.141267 -0.206010   \n",
       "\n",
       "        V26       V27       V28  Amount  Class  \n",
       "0 -0.189115  0.133558 -0.021053  149.62      0  \n",
       "1  0.125895 -0.008983  0.014724    2.69      0  \n",
       "2 -0.139097 -0.055353 -0.059752  378.66      0  \n",
       "3 -0.221929  0.062723  0.061458  123.50      0  \n",
       "4  0.502292  0.219422  0.215153   69.99      0  \n",
       "\n",
       "[5 rows x 31 columns]"
      ]
     },
     "execution_count": 2,
     "metadata": {},
     "output_type": "execute_result"
    }
   ],
   "source": [
    "\n",
    "credit_card_data=pd.read_csv('creditcard.csv')\n",
    "credit_card_data.head()"
   ]
  },
  {
   "cell_type": "markdown",
   "id": "9c7ba12a",
   "metadata": {
    "papermill": {
     "duration": 0.011019,
     "end_time": "2024-06-19T19:48:52.081960",
     "exception": false,
     "start_time": "2024-06-19T19:48:52.070941",
     "status": "completed"
    },
    "tags": []
   },
   "source": [
    "**Build a sample dataset containing similar distribution of normal transactions and Fraudulent Transactions**"
   ]
  },
  {
   "cell_type": "code",
   "execution_count": 12,
   "id": "a6adaef0",
   "metadata": {
    "execution": {
     "iopub.execute_input": "2024-06-19T19:48:52.107047Z",
     "iopub.status.busy": "2024-06-19T19:48:52.106208Z",
     "iopub.status.idle": "2024-06-19T19:48:52.124660Z",
     "shell.execute_reply": "2024-06-19T19:48:52.123441Z"
    },
    "papermill": {
     "duration": 0.034227,
     "end_time": "2024-06-19T19:48:52.127505",
     "exception": false,
     "start_time": "2024-06-19T19:48:52.093278",
     "status": "completed"
    },
    "tags": []
   },
   "outputs": [],
   "source": [
    "not_fraud_sample = not_fraud.sample(n=492) #takes a random sample of 492 rows from the not_fraud DataFrame.\n",
    "new_dataset = pd.concat([not_fraud_sample, fraud], axis=0)"
   ]
  },
  {
   "cell_type": "code",
   "execution_count": 13,
   "id": "8a922e03",
   "metadata": {
    "execution": {
     "iopub.execute_input": "2024-06-19T19:48:52.152468Z",
     "iopub.status.busy": "2024-06-19T19:48:52.151358Z",
     "iopub.status.idle": "2024-06-19T19:48:52.179021Z",
     "shell.execute_reply": "2024-06-19T19:48:52.177763Z"
    },
    "papermill": {
     "duration": 0.042811,
     "end_time": "2024-06-19T19:48:52.181641",
     "exception": false,
     "start_time": "2024-06-19T19:48:52.138830",
     "status": "completed"
    },
    "tags": []
   },
   "outputs": [
    {
     "data": {
      "text/html": [
       "<div>\n",
       "<style scoped>\n",
       "    .dataframe tbody tr th:only-of-type {\n",
       "        vertical-align: middle;\n",
       "    }\n",
       "\n",
       "    .dataframe tbody tr th {\n",
       "        vertical-align: top;\n",
       "    }\n",
       "\n",
       "    .dataframe thead th {\n",
       "        text-align: right;\n",
       "    }\n",
       "</style>\n",
       "<table border=\"1\" class=\"dataframe\">\n",
       "  <thead>\n",
       "    <tr style=\"text-align: right;\">\n",
       "      <th></th>\n",
       "      <th>Time</th>\n",
       "      <th>V1</th>\n",
       "      <th>V2</th>\n",
       "      <th>V3</th>\n",
       "      <th>V4</th>\n",
       "      <th>V5</th>\n",
       "      <th>V6</th>\n",
       "      <th>V7</th>\n",
       "      <th>V8</th>\n",
       "      <th>V9</th>\n",
       "      <th>...</th>\n",
       "      <th>V21</th>\n",
       "      <th>V22</th>\n",
       "      <th>V23</th>\n",
       "      <th>V24</th>\n",
       "      <th>V25</th>\n",
       "      <th>V26</th>\n",
       "      <th>V27</th>\n",
       "      <th>V28</th>\n",
       "      <th>Amount</th>\n",
       "      <th>Class</th>\n",
       "    </tr>\n",
       "  </thead>\n",
       "  <tbody>\n",
       "    <tr>\n",
       "      <th>258752</th>\n",
       "      <td>158799.0</td>\n",
       "      <td>2.047626</td>\n",
       "      <td>0.186629</td>\n",
       "      <td>-1.630432</td>\n",
       "      <td>1.377691</td>\n",
       "      <td>0.385193</td>\n",
       "      <td>-1.134345</td>\n",
       "      <td>0.569781</td>\n",
       "      <td>-0.360436</td>\n",
       "      <td>0.348157</td>\n",
       "      <td>...</td>\n",
       "      <td>0.030029</td>\n",
       "      <td>0.289257</td>\n",
       "      <td>0.007309</td>\n",
       "      <td>-0.104052</td>\n",
       "      <td>0.438828</td>\n",
       "      <td>-0.481180</td>\n",
       "      <td>-0.019385</td>\n",
       "      <td>-0.066054</td>\n",
       "      <td>1.00</td>\n",
       "      <td>0</td>\n",
       "    </tr>\n",
       "    <tr>\n",
       "      <th>234577</th>\n",
       "      <td>148030.0</td>\n",
       "      <td>0.276911</td>\n",
       "      <td>1.162944</td>\n",
       "      <td>-2.113575</td>\n",
       "      <td>-0.402553</td>\n",
       "      <td>1.140981</td>\n",
       "      <td>-1.210255</td>\n",
       "      <td>1.118091</td>\n",
       "      <td>0.048416</td>\n",
       "      <td>-0.476432</td>\n",
       "      <td>...</td>\n",
       "      <td>0.164005</td>\n",
       "      <td>0.429769</td>\n",
       "      <td>-0.036629</td>\n",
       "      <td>0.432912</td>\n",
       "      <td>-0.256562</td>\n",
       "      <td>0.531226</td>\n",
       "      <td>-0.161176</td>\n",
       "      <td>-0.047676</td>\n",
       "      <td>23.58</td>\n",
       "      <td>0</td>\n",
       "    </tr>\n",
       "    <tr>\n",
       "      <th>145779</th>\n",
       "      <td>87190.0</td>\n",
       "      <td>-2.013523</td>\n",
       "      <td>1.234875</td>\n",
       "      <td>-1.574263</td>\n",
       "      <td>-2.850082</td>\n",
       "      <td>1.126371</td>\n",
       "      <td>-1.611631</td>\n",
       "      <td>1.642224</td>\n",
       "      <td>-0.301474</td>\n",
       "      <td>1.273640</td>\n",
       "      <td>...</td>\n",
       "      <td>-0.146668</td>\n",
       "      <td>0.894270</td>\n",
       "      <td>0.031610</td>\n",
       "      <td>-0.330870</td>\n",
       "      <td>-0.031074</td>\n",
       "      <td>0.474382</td>\n",
       "      <td>0.008044</td>\n",
       "      <td>-0.383839</td>\n",
       "      <td>8.00</td>\n",
       "      <td>0</td>\n",
       "    </tr>\n",
       "    <tr>\n",
       "      <th>37710</th>\n",
       "      <td>39073.0</td>\n",
       "      <td>1.253736</td>\n",
       "      <td>-0.613771</td>\n",
       "      <td>-0.008244</td>\n",
       "      <td>-0.318678</td>\n",
       "      <td>-1.058688</td>\n",
       "      <td>-1.088556</td>\n",
       "      <td>-0.454308</td>\n",
       "      <td>-0.143524</td>\n",
       "      <td>-0.441182</td>\n",
       "      <td>...</td>\n",
       "      <td>-0.053336</td>\n",
       "      <td>-0.348891</td>\n",
       "      <td>-0.056710</td>\n",
       "      <td>0.292714</td>\n",
       "      <td>0.408338</td>\n",
       "      <td>-0.304667</td>\n",
       "      <td>0.000616</td>\n",
       "      <td>0.047482</td>\n",
       "      <td>81.40</td>\n",
       "      <td>0</td>\n",
       "    </tr>\n",
       "    <tr>\n",
       "      <th>236528</th>\n",
       "      <td>148847.0</td>\n",
       "      <td>-0.263943</td>\n",
       "      <td>1.275912</td>\n",
       "      <td>-1.039622</td>\n",
       "      <td>-0.285615</td>\n",
       "      <td>0.499114</td>\n",
       "      <td>-0.895011</td>\n",
       "      <td>0.564096</td>\n",
       "      <td>0.187385</td>\n",
       "      <td>-0.351893</td>\n",
       "      <td>...</td>\n",
       "      <td>0.400983</td>\n",
       "      <td>1.060388</td>\n",
       "      <td>-0.147359</td>\n",
       "      <td>-0.401949</td>\n",
       "      <td>-0.344233</td>\n",
       "      <td>-0.176435</td>\n",
       "      <td>-0.263296</td>\n",
       "      <td>0.012781</td>\n",
       "      <td>14.99</td>\n",
       "      <td>0</td>\n",
       "    </tr>\n",
       "  </tbody>\n",
       "</table>\n",
       "<p>5 rows × 31 columns</p>\n",
       "</div>"
      ],
      "text/plain": [
       "            Time        V1        V2        V3        V4        V5        V6  \\\n",
       "258752  158799.0  2.047626  0.186629 -1.630432  1.377691  0.385193 -1.134345   \n",
       "234577  148030.0  0.276911  1.162944 -2.113575 -0.402553  1.140981 -1.210255   \n",
       "145779   87190.0 -2.013523  1.234875 -1.574263 -2.850082  1.126371 -1.611631   \n",
       "37710    39073.0  1.253736 -0.613771 -0.008244 -0.318678 -1.058688 -1.088556   \n",
       "236528  148847.0 -0.263943  1.275912 -1.039622 -0.285615  0.499114 -0.895011   \n",
       "\n",
       "              V7        V8        V9  ...       V21       V22       V23  \\\n",
       "258752  0.569781 -0.360436  0.348157  ...  0.030029  0.289257  0.007309   \n",
       "234577  1.118091  0.048416 -0.476432  ...  0.164005  0.429769 -0.036629   \n",
       "145779  1.642224 -0.301474  1.273640  ... -0.146668  0.894270  0.031610   \n",
       "37710  -0.454308 -0.143524 -0.441182  ... -0.053336 -0.348891 -0.056710   \n",
       "236528  0.564096  0.187385 -0.351893  ...  0.400983  1.060388 -0.147359   \n",
       "\n",
       "             V24       V25       V26       V27       V28  Amount  Class  \n",
       "258752 -0.104052  0.438828 -0.481180 -0.019385 -0.066054    1.00      0  \n",
       "234577  0.432912 -0.256562  0.531226 -0.161176 -0.047676   23.58      0  \n",
       "145779 -0.330870 -0.031074  0.474382  0.008044 -0.383839    8.00      0  \n",
       "37710   0.292714  0.408338 -0.304667  0.000616  0.047482   81.40      0  \n",
       "236528 -0.401949 -0.344233 -0.176435 -0.263296  0.012781   14.99      0  \n",
       "\n",
       "[5 rows x 31 columns]"
      ]
     },
     "execution_count": 13,
     "metadata": {},
     "output_type": "execute_result"
    }
   ],
   "source": [
    "new_dataset.head()"
   ]
  },
  {
   "cell_type": "code",
   "execution_count": 17,
   "id": "12a1f759",
   "metadata": {
    "execution": {
     "iopub.execute_input": "2024-06-19T19:48:52.376213Z",
     "iopub.status.busy": "2024-06-19T19:48:52.375074Z",
     "iopub.status.idle": "2024-06-19T19:48:52.381969Z",
     "shell.execute_reply": "2024-06-19T19:48:52.380859Z"
    },
    "papermill": {
     "duration": 0.024354,
     "end_time": "2024-06-19T19:48:52.384709",
     "exception": false,
     "start_time": "2024-06-19T19:48:52.360355",
     "status": "completed"
    },
    "tags": []
   },
   "outputs": [],
   "source": [
    "#Splitting the data into Features & Targets\n",
    "X = new_dataset.drop(columns='Class', axis=1)\n",
    "Y = new_dataset['Class']"
   ]
  },
  {
   "cell_type": "code",
   "execution_count": 18,
   "id": "71dda3bf",
   "metadata": {
    "execution": {
     "iopub.execute_input": "2024-06-19T19:48:52.411640Z",
     "iopub.status.busy": "2024-06-19T19:48:52.410886Z",
     "iopub.status.idle": "2024-06-19T19:48:52.429460Z",
     "shell.execute_reply": "2024-06-19T19:48:52.428412Z"
    },
    "papermill": {
     "duration": 0.035518,
     "end_time": "2024-06-19T19:48:52.432752",
     "exception": false,
     "start_time": "2024-06-19T19:48:52.397234",
     "status": "completed"
    },
    "tags": []
   },
   "outputs": [
    {
     "name": "stdout",
     "output_type": "stream",
     "text": [
      "            Time        V1        V2        V3        V4        V5        V6  \\\n",
      "258752  158799.0  2.047626  0.186629 -1.630432  1.377691  0.385193 -1.134345   \n",
      "234577  148030.0  0.276911  1.162944 -2.113575 -0.402553  1.140981 -1.210255   \n",
      "145779   87190.0 -2.013523  1.234875 -1.574263 -2.850082  1.126371 -1.611631   \n",
      "37710    39073.0  1.253736 -0.613771 -0.008244 -0.318678 -1.058688 -1.088556   \n",
      "236528  148847.0 -0.263943  1.275912 -1.039622 -0.285615  0.499114 -0.895011   \n",
      "...          ...       ...       ...       ...       ...       ...       ...   \n",
      "279863  169142.0 -1.927883  1.125653 -4.518331  1.749293 -1.566487 -2.010494   \n",
      "280143  169347.0  1.378559  1.289381 -5.004247  1.411850  0.442581 -1.326536   \n",
      "280149  169351.0 -0.676143  1.126366 -2.213700  0.468308 -1.120541 -0.003346   \n",
      "281144  169966.0 -3.113832  0.585864 -5.399730  1.817092 -0.840618 -2.943548   \n",
      "281674  170348.0  1.991976  0.158476 -2.583441  0.408670  1.151147 -0.096695   \n",
      "\n",
      "              V7        V8        V9  ...       V20       V21       V22  \\\n",
      "258752  0.569781 -0.360436  0.348157  ... -0.374524  0.030029  0.289257   \n",
      "234577  1.118091  0.048416 -0.476432  ... -0.272409  0.164005  0.429769   \n",
      "145779  1.642224 -0.301474  1.273640  ...  0.240301 -0.146668  0.894270   \n",
      "37710  -0.454308 -0.143524 -0.441182  ...  0.148187 -0.053336 -0.348891   \n",
      "236528  0.564096  0.187385 -0.351893  ... -0.267857  0.400983  1.060388   \n",
      "...          ...       ...       ...  ...       ...       ...       ...   \n",
      "279863 -0.882850  0.697211 -2.064945  ...  1.252967  0.778584 -0.319189   \n",
      "280143 -1.413170  0.248525 -1.127396  ...  0.226138  0.370612  0.028234   \n",
      "280149 -2.234739  1.210158 -0.652250  ...  0.247968  0.751826  0.834108   \n",
      "281144 -2.208002  1.058733 -1.632333  ...  0.306271  0.583276 -0.269209   \n",
      "281674  0.223050 -0.068384  0.577829  ... -0.017652 -0.164350 -0.295135   \n",
      "\n",
      "             V23       V24       V25       V26       V27       V28  Amount  \n",
      "258752  0.007309 -0.104052  0.438828 -0.481180 -0.019385 -0.066054    1.00  \n",
      "234577 -0.036629  0.432912 -0.256562  0.531226 -0.161176 -0.047676   23.58  \n",
      "145779  0.031610 -0.330870 -0.031074  0.474382  0.008044 -0.383839    8.00  \n",
      "37710  -0.056710  0.292714  0.408338 -0.304667  0.000616  0.047482   81.40  \n",
      "236528 -0.147359 -0.401949 -0.344233 -0.176435 -0.263296  0.012781   14.99  \n",
      "...          ...       ...       ...       ...       ...       ...     ...  \n",
      "279863  0.639419 -0.294885  0.537503  0.788395  0.292680  0.147968  390.00  \n",
      "280143 -0.145640 -0.081049  0.521875  0.739467  0.389152  0.186637    0.76  \n",
      "280149  0.190944  0.032070 -0.739695  0.471111  0.385107  0.194361   77.89  \n",
      "281144 -0.456108 -0.183659 -0.328168  0.606116  0.884876 -0.253700  245.00  \n",
      "281674 -0.072173 -0.450261  0.313267 -0.289617  0.002988 -0.015309   42.53  \n",
      "\n",
      "[984 rows x 30 columns]\n"
     ]
    }
   ],
   "source": [
    "print(X)"
   ]
  },
  {
   "cell_type": "code",
   "execution_count": 19,
   "id": "99cd2f7b",
   "metadata": {
    "execution": {
     "iopub.execute_input": "2024-06-19T19:48:52.460390Z",
     "iopub.status.busy": "2024-06-19T19:48:52.459435Z",
     "iopub.status.idle": "2024-06-19T19:48:52.466070Z",
     "shell.execute_reply": "2024-06-19T19:48:52.465017Z"
    },
    "papermill": {
     "duration": 0.023803,
     "end_time": "2024-06-19T19:48:52.469246",
     "exception": false,
     "start_time": "2024-06-19T19:48:52.445443",
     "status": "completed"
    },
    "tags": []
   },
   "outputs": [
    {
     "name": "stdout",
     "output_type": "stream",
     "text": [
      "258752    0\n",
      "234577    0\n",
      "145779    0\n",
      "37710     0\n",
      "236528    0\n",
      "         ..\n",
      "279863    1\n",
      "280143    1\n",
      "280149    1\n",
      "281144    1\n",
      "281674    1\n",
      "Name: Class, Length: 984, dtype: int64\n"
     ]
    }
   ],
   "source": [
    "print(Y)"
   ]
  },
  {
   "cell_type": "code",
   "execution_count": 20,
   "id": "41e00c13",
   "metadata": {
    "execution": {
     "iopub.execute_input": "2024-06-19T19:48:52.499091Z",
     "iopub.status.busy": "2024-06-19T19:48:52.498554Z",
     "iopub.status.idle": "2024-06-19T19:48:52.508613Z",
     "shell.execute_reply": "2024-06-19T19:48:52.507587Z"
    },
    "papermill": {
     "duration": 0.028698,
     "end_time": "2024-06-19T19:48:52.511129",
     "exception": false,
     "start_time": "2024-06-19T19:48:52.482431",
     "status": "completed"
    },
    "tags": []
   },
   "outputs": [],
   "source": [
    "X_train, X_test, Y_train, Y_test = train_test_split(X, Y, test_size=0.2, stratify=Y, random_state=2)"
   ]
  },
  {
   "cell_type": "code",
   "execution_count": 21,
   "id": "47051bb0",
   "metadata": {
    "execution": {
     "iopub.execute_input": "2024-06-19T19:48:52.538451Z",
     "iopub.status.busy": "2024-06-19T19:48:52.538038Z",
     "iopub.status.idle": "2024-06-19T19:48:52.543821Z",
     "shell.execute_reply": "2024-06-19T19:48:52.542809Z"
    },
    "papermill": {
     "duration": 0.022775,
     "end_time": "2024-06-19T19:48:52.546856",
     "exception": false,
     "start_time": "2024-06-19T19:48:52.524081",
     "status": "completed"
    },
    "tags": []
   },
   "outputs": [
    {
     "name": "stdout",
     "output_type": "stream",
     "text": [
      "(984, 30) (787, 30) (197, 30)\n"
     ]
    }
   ],
   "source": [
    "print(X.shape, X_train.shape, X_test.shape)"
   ]
  },
  {
   "cell_type": "code",
   "execution_count": 22,
   "id": "e2314ebc",
   "metadata": {
    "execution": {
     "iopub.execute_input": "2024-06-19T19:48:52.574225Z",
     "iopub.status.busy": "2024-06-19T19:48:52.573479Z",
     "iopub.status.idle": "2024-06-19T19:48:52.635892Z",
     "shell.execute_reply": "2024-06-19T19:48:52.634742Z"
    },
    "papermill": {
     "duration": 0.080013,
     "end_time": "2024-06-19T19:48:52.639619",
     "exception": false,
     "start_time": "2024-06-19T19:48:52.559606",
     "status": "completed"
    },
    "tags": []
   },
   "outputs": [
    {
     "data": {
      "text/html": [
       "<style>#sk-container-id-1 {color: black;background-color: white;}#sk-container-id-1 pre{padding: 0;}#sk-container-id-1 div.sk-toggleable {background-color: white;}#sk-container-id-1 label.sk-toggleable__label {cursor: pointer;display: block;width: 100%;margin-bottom: 0;padding: 0.3em;box-sizing: border-box;text-align: center;}#sk-container-id-1 label.sk-toggleable__label-arrow:before {content: \"▸\";float: left;margin-right: 0.25em;color: #696969;}#sk-container-id-1 label.sk-toggleable__label-arrow:hover:before {color: black;}#sk-container-id-1 div.sk-estimator:hover label.sk-toggleable__label-arrow:before {color: black;}#sk-container-id-1 div.sk-toggleable__content {max-height: 0;max-width: 0;overflow: hidden;text-align: left;background-color: #f0f8ff;}#sk-container-id-1 div.sk-toggleable__content pre {margin: 0.2em;color: black;border-radius: 0.25em;background-color: #f0f8ff;}#sk-container-id-1 input.sk-toggleable__control:checked~div.sk-toggleable__content {max-height: 200px;max-width: 100%;overflow: auto;}#sk-container-id-1 input.sk-toggleable__control:checked~label.sk-toggleable__label-arrow:before {content: \"▾\";}#sk-container-id-1 div.sk-estimator input.sk-toggleable__control:checked~label.sk-toggleable__label {background-color: #d4ebff;}#sk-container-id-1 div.sk-label input.sk-toggleable__control:checked~label.sk-toggleable__label {background-color: #d4ebff;}#sk-container-id-1 input.sk-hidden--visually {border: 0;clip: rect(1px 1px 1px 1px);clip: rect(1px, 1px, 1px, 1px);height: 1px;margin: -1px;overflow: hidden;padding: 0;position: absolute;width: 1px;}#sk-container-id-1 div.sk-estimator {font-family: monospace;background-color: #f0f8ff;border: 1px dotted black;border-radius: 0.25em;box-sizing: border-box;margin-bottom: 0.5em;}#sk-container-id-1 div.sk-estimator:hover {background-color: #d4ebff;}#sk-container-id-1 div.sk-parallel-item::after {content: \"\";width: 100%;border-bottom: 1px solid gray;flex-grow: 1;}#sk-container-id-1 div.sk-label:hover label.sk-toggleable__label {background-color: #d4ebff;}#sk-container-id-1 div.sk-serial::before {content: \"\";position: absolute;border-left: 1px solid gray;box-sizing: border-box;top: 0;bottom: 0;left: 50%;z-index: 0;}#sk-container-id-1 div.sk-serial {display: flex;flex-direction: column;align-items: center;background-color: white;padding-right: 0.2em;padding-left: 0.2em;position: relative;}#sk-container-id-1 div.sk-item {position: relative;z-index: 1;}#sk-container-id-1 div.sk-parallel {display: flex;align-items: stretch;justify-content: center;background-color: white;position: relative;}#sk-container-id-1 div.sk-item::before, #sk-container-id-1 div.sk-parallel-item::before {content: \"\";position: absolute;border-left: 1px solid gray;box-sizing: border-box;top: 0;bottom: 0;left: 50%;z-index: -1;}#sk-container-id-1 div.sk-parallel-item {display: flex;flex-direction: column;z-index: 1;position: relative;background-color: white;}#sk-container-id-1 div.sk-parallel-item:first-child::after {align-self: flex-end;width: 50%;}#sk-container-id-1 div.sk-parallel-item:last-child::after {align-self: flex-start;width: 50%;}#sk-container-id-1 div.sk-parallel-item:only-child::after {width: 0;}#sk-container-id-1 div.sk-dashed-wrapped {border: 1px dashed gray;margin: 0 0.4em 0.5em 0.4em;box-sizing: border-box;padding-bottom: 0.4em;background-color: white;}#sk-container-id-1 div.sk-label label {font-family: monospace;font-weight: bold;display: inline-block;line-height: 1.2em;}#sk-container-id-1 div.sk-label-container {text-align: center;}#sk-container-id-1 div.sk-container {/* jupyter's `normalize.less` sets `[hidden] { display: none; }` but bootstrap.min.css set `[hidden] { display: none !important; }` so we also need the `!important` here to be able to override the default hidden behavior on the sphinx rendered scikit-learn.org. See: https://github.com/scikit-learn/scikit-learn/issues/21755 */display: inline-block !important;position: relative;}#sk-container-id-1 div.sk-text-repr-fallback {display: none;}</style><div id=\"sk-container-id-1\" class=\"sk-top-container\"><div class=\"sk-text-repr-fallback\"><pre>LogisticRegression()</pre><b>In a Jupyter environment, please rerun this cell to show the HTML representation or trust the notebook. <br />On GitHub, the HTML representation is unable to render, please try loading this page with nbviewer.org.</b></div><div class=\"sk-container\" hidden><div class=\"sk-item\"><div class=\"sk-estimator sk-toggleable\"><input class=\"sk-toggleable__control sk-hidden--visually\" id=\"sk-estimator-id-1\" type=\"checkbox\" checked><label for=\"sk-estimator-id-1\" class=\"sk-toggleable__label sk-toggleable__label-arrow\">LogisticRegression</label><div class=\"sk-toggleable__content\"><pre>LogisticRegression()</pre></div></div></div></div></div>"
      ],
      "text/plain": [
       "LogisticRegression()"
      ]
     },
     "execution_count": 22,
     "metadata": {},
     "output_type": "execute_result"
    }
   ],
   "source": [
    "model = LogisticRegression()\n",
    "# training the Logistic Regression Model with Training Data\n",
    "model.fit(X_train, Y_train)"
   ]
  },
  {
   "cell_type": "code",
   "execution_count": 23,
   "id": "8cb55ce4",
   "metadata": {
    "execution": {
     "iopub.execute_input": "2024-06-19T19:48:52.699362Z",
     "iopub.status.busy": "2024-06-19T19:48:52.697553Z",
     "iopub.status.idle": "2024-06-19T19:48:52.718033Z",
     "shell.execute_reply": "2024-06-19T19:48:52.716454Z"
    },
    "papermill": {
     "duration": 0.05586,
     "end_time": "2024-06-19T19:48:52.723138",
     "exception": false,
     "start_time": "2024-06-19T19:48:52.667278",
     "status": "completed"
    },
    "tags": []
   },
   "outputs": [],
   "source": [
    "# accuracy on training data\n",
    "X_train_prediction = model.predict(X_train)\n",
    "training_data_accuracy = accuracy_score(X_train_prediction, Y_train)"
   ]
  },
  {
   "cell_type": "code",
   "execution_count": 24,
   "id": "72381b8d",
   "metadata": {
    "execution": {
     "iopub.execute_input": "2024-06-19T19:48:52.782202Z",
     "iopub.status.busy": "2024-06-19T19:48:52.781525Z",
     "iopub.status.idle": "2024-06-19T19:48:52.789803Z",
     "shell.execute_reply": "2024-06-19T19:48:52.788308Z"
    },
    "papermill": {
     "duration": 0.048549,
     "end_time": "2024-06-19T19:48:52.800323",
     "exception": false,
     "start_time": "2024-06-19T19:48:52.751774",
     "status": "completed"
    },
    "tags": []
   },
   "outputs": [
    {
     "name": "stdout",
     "output_type": "stream",
     "text": [
      "Accuracy on Training data :  0.9415501905972046\n"
     ]
    }
   ],
   "source": [
    "print('Accuracy on Training data : ', training_data_accuracy)"
   ]
  },
  {
   "cell_type": "code",
   "execution_count": 25,
   "id": "a0b8edf6",
   "metadata": {
    "execution": {
     "iopub.execute_input": "2024-06-19T19:48:52.846441Z",
     "iopub.status.busy": "2024-06-19T19:48:52.845589Z",
     "iopub.status.idle": "2024-06-19T19:48:52.854990Z",
     "shell.execute_reply": "2024-06-19T19:48:52.853916Z"
    },
    "papermill": {
     "duration": 0.029382,
     "end_time": "2024-06-19T19:48:52.857923",
     "exception": false,
     "start_time": "2024-06-19T19:48:52.828541",
     "status": "completed"
    },
    "tags": []
   },
   "outputs": [
    {
     "name": "stdout",
     "output_type": "stream",
     "text": [
      "Accuracy score on Test Data :  0.9289340101522843\n"
     ]
    }
   ],
   "source": [
    "# accuracy on test data\n",
    "X_test_prediction = model.predict(X_test)\n",
    "test_data_accuracy = accuracy_score(X_test_prediction, Y_test)\n",
    "print('Accuracy score on Test Data : ', test_data_accuracy)"
   ]
  },
  {
   "cell_type": "code",
   "execution_count": null,
   "id": "af1f2fb4",
   "metadata": {
    "papermill": {
     "duration": 0.013059,
     "end_time": "2024-06-19T19:48:52.884146",
     "exception": false,
     "start_time": "2024-06-19T19:48:52.871087",
     "status": "completed"
    },
    "tags": []
   },
   "outputs": [],
   "source": []
  }
 ],
 "metadata": {
  "kaggle": {
   "accelerator": "none",
   "dataSources": [
    {
     "datasetId": 310,
     "sourceId": 23498,
     "sourceType": "datasetVersion"
    }
   ],
   "dockerImageVersionId": 30732,
   "isGpuEnabled": false,
   "isInternetEnabled": true,
   "language": "python",
   "sourceType": "notebook"
  },
  "kernelspec": {
   "display_name": "Python 3 (ipykernel)",
   "language": "python",
   "name": "python3"
  },
  "language_info": {
   "codemirror_mode": {
    "name": "ipython",
    "version": 3
   },
   "file_extension": ".py",
   "mimetype": "text/x-python",
   "name": "python",
   "nbconvert_exporter": "python",
   "pygments_lexer": "ipython3",
   "version": "3.12.4"
  },
  "papermill": {
   "default_parameters": {},
   "duration": 11.628099,
   "end_time": "2024-06-19T19:48:53.518691",
   "environment_variables": {},
   "exception": null,
   "input_path": "__notebook__.ipynb",
   "output_path": "__notebook__.ipynb",
   "parameters": {},
   "start_time": "2024-06-19T19:48:41.890592",
   "version": "2.5.0"
  }
 },
 "nbformat": 4,
 "nbformat_minor": 5
}
